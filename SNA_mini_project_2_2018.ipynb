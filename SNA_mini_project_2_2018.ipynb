{
 "cells": [
  {
   "cell_type": "code",
   "execution_count": 244,
   "metadata": {},
   "outputs": [],
   "source": [
    "from selenium import webdriver\n",
    "import urllib.request\n",
    "from selenium.webdriver.common.keys import Keys\n",
    "import time\n",
    "from bs4 import BeautifulSoup\n",
    "import codecs\n",
    "import re\n",
    "import pandas as pd\n",
    "from datetime import datetime\n",
    "\n",
    "#Generate pictures By P.Tor\n",
    "import csv\n",
    "import numpy as np\n",
    "import pygal\n",
    "import codecs\n"
   ]
  },
  {
   "cell_type": "code",
   "execution_count": 245,
   "metadata": {},
   "outputs": [],
   "source": [
    "pizza_pala_romana_URL = 'https://www.facebook.com/pg/Palapizzaromanabistrot/reviews/?ref=page_internal'\n",
    "# pizza_pala_romana_URL = 'https://www.facebook.com/pg/cafe.mademoiselle.bangkok.2015/reviews/?ref=page_internal'\n",
    "usr = \"scappingTeam@gmail.com\"\n",
    "pwd = \"torn2537\"\n",
    "shopName = 'romana'\n",
    "loop=20\n",
    "\n",
    "graphFileList=['romana','mademoiselle']"
   ]
  },
  {
   "cell_type": "code",
   "execution_count": 246,
   "metadata": {},
   "outputs": [
    {
     "name": "stdout",
     "output_type": "stream",
     "text": [
      "[<div class=\"_5pbx userContent _3576\" data-ft='{\"tn\":\"K\"}'><p>Review only for takeaway, as I have never dined in.<br/> Great food at great prices! Service is also fast and professional.<br/> Will come back!</p></div>, <div class=\"_5pbx userContent _3576\" data-ft='{\"tn\":\"K\"}'><p>Large selection of pizza, pastas and desserts (wow). Southern Italy recipes not seen anywhere else. Italian beers on draft too. Very popular with locals and expats. Attentive staff. 5 stars!</p></div>, <div class=\"_5pbx userContent _3576\" data-ft='{\"tn\":\"K\"}'><p>อย่าไปซื้อพนังงานนิสัยเเย่มาด่าลูกค้าเหี้ย<br/> ผู้จัดการเข้าข้างลูก</p></div>, <div class=\"_5pbx userContent _3576\" data-ft='{\"tn\":\"K\"}'><p>Pala pizza 5 Stars <br/> The best Roman pizza ever in Bangkok! fast and effective service. traditional and authentic Italian food !  thank you so much .</p></div>, <div class=\"_5pbx userContent _3576\" data-ft='{\"tn\":\"K\"}'><p>ดีทุกอย่าง...อาหาร. รสชาติ. สภานที่. บริการ...<br/> ไม่ต้องอธิบายมาก</p></div>]\n"
     ]
    }
   ],
   "source": [
    "page = urllib.request.urlopen(pizza_pala_romana_URL).read()\n",
    "soup = BeautifulSoup(page, 'html.parser')\n",
    "\n",
    "data = soup.find_all(\"div\", class_=\"_5pbx userContent _3576\")\n",
    "print(data)"
   ]
  },
  {
   "cell_type": "code",
   "execution_count": 247,
   "metadata": {},
   "outputs": [
    {
     "name": "stdout",
     "output_type": "stream",
     "text": [
      "Log in sucessfully\n",
      "==End of dump process==\n"
     ]
    }
   ],
   "source": [
    "\n",
    "\n",
    "# This function will close notification of Chrome browser after log in facebook account.\n",
    "def handle_notification_Chrome():\n",
    "    chrome_options = webdriver.ChromeOptions()\n",
    "    prefs = {\"profile.default_content_setting_values.notifications\" : 2}\n",
    "    chrome_options.add_experimental_option(\"prefs\",prefs)\n",
    "    driver = webdriver.Chrome(chrome_options=chrome_options)\n",
    "    return driver\n",
    "\n",
    "#Log in to facebook\n",
    "driver = handle_notification_Chrome()\n",
    "\n",
    "driver.get('https://www.facebook.com/')\n",
    "assert \"Facebook\" in driver.title\n",
    "elem = driver.find_element_by_id(\"email\")\n",
    "elem.send_keys(usr)\n",
    "elem = driver.find_element_by_id(\"pass\")\n",
    "elem.send_keys(pwd)\n",
    "elem.send_keys(Keys.RETURN)\n",
    "print(\"Log in sucessfully\")\n",
    "#Go to the page.\n",
    "driver.get(pizza_pala_romana_URL)\n",
    "#Dump source code of Facebook web page on target url\n",
    "\n",
    "last_i = 0 \n",
    "time.sleep(3) \n",
    "file_object = codecs.open(\"Dump_\"+shopName+\".txt\", \"w\", \"utf-8\") \n",
    "while last_i<loop: \n",
    "    last_i = last_i+1 \n",
    "    driver.execute_script(\"window.scrollTo(0, document.body.scrollHeight);\") \n",
    "    time.sleep(2) \n",
    "print(\"==End of dump process==\") \n",
    "file_object.write(driver.page_source)\n",
    "driver.close()"
   ]
  },
  {
   "cell_type": "code",
   "execution_count": 248,
   "metadata": {},
   "outputs": [],
   "source": [
    "f=codecs.open(\"Dump_\"+shopName+\".txt\", \"r\", \"utf-8\") \n",
    "source = f.read() \n",
    "\n",
    "soup = BeautifulSoup(source, 'html.parser') \n"
   ]
  },
  {
   "cell_type": "code",
   "execution_count": 249,
   "metadata": {},
   "outputs": [
    {
     "name": "stdout",
     "output_type": "stream",
     "text": [
      "Reviews: ['Review only for takeaway, as I have never dined in. Great food at great prices! Service is also fast and professional. Will come back!', 'Large selection of pizza, pastas and desserts (wow). Southern Italy recipes not seen anywhere else. Italian beers on draft too. Very popular with locals and expats. Attentive staff. 5 stars!', 'อย่าไปซื้อพนังงานนิสัยเเย่มาด่าลูกค้าเหี้ย ผู้จัดการเข้าข้างลูก', 'Pala pizza 5 Stars  The best Roman pizza ever in Bangkok! fast and effective service. traditional and authentic Italian food !  thank you so much .', 'ดีทุกอย่าง...อาหาร. รสชาติ. สภานที่. บริการ... ไม่ต้องอธิบายมาก', 'It eat at Pala whenever I am in Bangkok. It is a great place and the food and service is excellent. I see the same faces there all the time so I am not alone in thinking that this is THE place for good pastas and pizzas and more.', 'อาหารสดใหม่ ชีสในพิซซ่าใช้ของดี ทานละใช่เลย', 'Great pizzeria restaurant located in the center of Bangkok. The pasta is really nice and I liked the pizza with 4 cheese.  If you like Italian cuisine I strongly suggest to visit Pizza Pala in Asoke', 'Well the Pizza is fantastic. Other food too. Its always busy so food is fresh.', \"Maybe we (my Thai gf and I, around 30yo and both living in Bkk) relied too much on all those positive reviews of people being overly enthusiastic about this Italian restaurant... However, we were truly disappointed of our personal experience with their pizzas; they look good, but the taste is very average. We've had better pizzas delivered by other pizzerias for much less than what we paid at Pala tonight. We finally ended having diner in another Italian restaurant, and had both better food and service (treated like real clients and not 'numbers' to process as fast as possible), for cheaper. Just a humble review of our honest experience at Pala Pizzeria.\", 'I ate here with my friend on Sunday evening and we were both sick the next day and evening. My friend was so bad he passed out and fell over cutting his head. I don’t know what they put in the capricciosa I can only guess that maybe it was the anchovies. AVOID.', 'Lovely pizza spot right in the heart of Asoke. Big fan of their pizza al taglio, just superb!', 'More we go to eat there more we love this small little place !!!!', 'Unorganized staffs with no manners. Eat in, staff rush to get more tables. Take out, staff accept people who cut through the line!', 'tried some of their pastries and the donut is superb! I normally go for pizza which is really good too but their cakes and pastries are very delicious as well.', 'Best Italian Restaurant in Bangkok', \"Tutto eccellente! Il personale deve impegnarsi molto per soddisfare i clenti e dare il cambio a quelli in attesa, dentro e fuori dal locale. Bisogna avere pazienza e non ci si può lamentare se occorre aspettare 12/15 minutri per avere un piatto di rigatoni: tanto è il tempo necessario per cuocerli. I cibi vengono serviti insieme allo stesso tavolo. Non c'è qualcuno che mangia e altro/i che guarda/no...\", 'Passeggiando per il centro di Bangkok, con mio stupore ho visto all’uscita della metropolitana 🚊 della stazione Asok Bts e MRT una gradevole pizzeria e ristorante italiano, ho chiesto ai miei amici se volessero assaggiare li qualche piatto di spaghetti 🍝 e anche alcune trance di pizza 🍕. Che dire che è una delle cose in fatto di cibo in Thailandia 🇹🇭 ed anche a Bangkok che mi sentirei di consigliare a chi si trova da quelle parti voto 9🇮🇹', 'Best VEGAN PIZZAS in Bangkok yum yum ��� great service, friendly atmosphare.', 'The best Italian in Bangkok', \"I've always LOVED Pala Pizza. There were always a LOT of vegan options on their menu, but they now have a menu on the tables which have plant based option and.... they actually have melting vegan cheese now which is taking their already delicious pizzas to the next level! \", 'แนะนำเลยร้านนี้ อาหารอร่อย คุ้มค่า  ราคาดี พนักงานเป็นกันเอง  สถานที่ก็ไปมาสะดวก  อยู่ติด BTS กับ MRT  The best Italian Restaurant in BKK.👍🏻', 'I went to this place for the first time with my bf coz some of my friends told me about it ... we walk in and wait abit long to order i know its busy but you should look around  for all customers ... we ordered pizza by slice for 6 pieces .. it abit dissapointed coz all pizza so cold i think you should warm it abit before you served .. we thought dont wanna come back as i know some place that better but at least i tried it once', 'My go-to place for a late night comfort food. I have been frequenting the place for six years. That reminds me, I need to visit them again soon.', 'Crusty, very authentic flavor. But Abit too small a slice as I bought it as takeaway for the margarita pizza. Will come back for the other stuff on the if I have the chance to visit Bangkok.', 'An upscale Italian restaurant, waiters hovered around us continually making sure everything was “just right”.  My friends shared a pizza which they thought was very good.  I had ravioli &amp; ham in cream sauce which was very good but a very small portion.  Great wine selection.  We also shared an Italian cheese tray which seemed to be limited to only one style of cheeses: very sharp Limburger/ Blue cheeses.  Would have appreciated a wider selection. Clean, good (maybe overdone?) service, good food, good wine.', 'This is a disgusting,rat and cockroach infested place! The food is terrible and made in unsanitary conditions! The pizza maker was picking their nose and preparing the food! They also secretly video tape and take photos of their customers without consent or permission! There is garbage on the floor and the tables are dirty and not cleaned! This place is very expensive,overpriced and there is no value for the extremely small portion of food that they serve with a nasty I don’t care attitude! They overcharge the customers and are very dishonest! I felt sick after eating at this filthy and dirty restaurant! The pizza is the worst I have ever tasted in my life and nothing I have ever seen in my life! This is a tourist trap and they don’t speak English! Don’t go to this disgusting rat 🐀 infested unsanitary place!', \"Great location with good pizza. I came here alone, so I appreciate the menu which has pizza order by a slice. This is really cool for alone customer who can't eat a whole pizza.\", 'I tried eggplant pizza.. It was the pizza I ever had in Bangkok.. Last but not least, the staff was really nice... #thumbsup', 'Expensive for small quantity', 'Definitely my favorite Italian restaurant in Bangkok right now! Amazing pizza, and a good selection of interesting beers.', 'Fabulous food.  The pasta fagioli is just like Grandma used to make. And, they now have VEGAN cheese for their pizza!!!!', 'So delicious 👏👏👏', 'Best Pizza corner in Bangkok. Simple to eat with fair price.', \"My secret address for the best pizza in town...and now it's no longer a secret!!! Thank you for good food and service always!\", 'Authentic Italian pasta here, which is also located at a very convenient place. The custard was perfect, not too sweet at all. Pizza Montanara is the best', 'Pizza was great, good cappuccino and tiramisu!! Also have these fried potato and cheeses things that were outstanding! Price is reasonable and service was great. I was there 3 times in a week, always busy but had no problem getting what I wanted in a timely manner. I highly recommend this place!', \"#YummyInMyTummy Honestly, one of the best authentic Italian cuisines in BKK. Couldn't recommend it enough!!!\", 'great pasta..I love it..good location..but just a minor comment the pizza dough is too hard.. overview is good..', 'I’ve lived in Asia for over a year and it is RARE to find Italian food this high quality and authentic.', 'Fantastic food, good service and reasonable price. Place is hidden away next to Terminal 21 in front of Asoke BTS.', 'Espresso is really good, indeed. Most of the times, I step in there just for having it. Food and pricing = balanced.', 'Great pizza and yummy Patma ham. Must go if in Bangkok � Honest opinion from a travel and food vlogger � YOKL on youtube.', 'Solid five stars, food great, drink great, staff fantastic, nothing more to say!', 'love it, so convenient, great food and service for affordable price in the center of bangkok', 'The best pizza in Bangkok and very nice and freindly staff. We love the atmosphere here!', \"when i came to bangkok everytime i should be go there because, i love this pizza ! It's good tasty while the service sometime slow sometime fast but, the staff's friendly. I think i'll come again, sure :)\", 'Staff is efficient and kind. Pizza is original Italian taste. Good wine. Price is ok. Recommendable!', 'Decent crust, sauce and cheese but slices not served hot. Meat toppings applied cold. Service okay. Disappointing overall.', 'Outstanding. As usual.', 'One of the best Italian dish in BKK.', \"Sì, la pizza più buona d'Italia l'ho mangiata in questa pizzeria...in Thailandia, a Bangkok! Scelta vegan già sul menù e disponibili a modifiche!  Super consigliato!\", 'Great value.  We had a generous sized bruschetta, and a nice pasta.  The service was very good also.  T', 'Order 4 hours ago..3 hours late.. cold and soggy. Awful. Got told the company would call and never did.', 'Pizza strepitosa, trippa con mentuccia superlativa e poi hanno anche la birra opperbacco. E dove lo trovi un posto così a Krung Tep?', 'Its the Best italian food ever in TH!! Service should improvise thou.', 'Good location with great pasta &amp; pizza @ reasonable price', 'very nice pizza in bangkok i love make pizza i want job as pizza chief in your', 'Supercalifragilisticexpialidocious :-)', 'Breakfast small potion . Price is expensive. Not worth the money.', \"I don't regret gaining fat with their pizza and barley salad.\", 'pizze e dolci ottimi e trovi cose che in Thailandia puoi solo sognare come ad esempio i cannoli siciliani.. Organizzato benissimo con personale capace e perspicace (raro in TH)  oltre che attento e cordiale!  Ma che piccoli sono i tavoli ma sopratutto CHE RAZZA DI FREDDO FA dentro il locale? Portatevi una felpa !', 'Tasty pizza slices for a reasonable price', 'So good. I sit at the counter. Full-attention service.', '5 Formaggi Pizza is a must try dish................', 'Topissssssime, trop top, tout est bon. Je recommande sans retenue', 'Very nice pizza and environment!', 'Endroit sympa.  Pizzas bonnes et personnel cool....', 'Highly Recommend this place!', 'Pasta very delicious ,so I just went yesterday everything still fresh', 'Authentic Italian taste!', 'Best ever Italian food', 'Better than in Rome...', 'Best ravioli in town.  Oh try the roman style pizza.  Thumbs up.', 'If you are a pizza lover, dont miss this delicious corner!', \"A must visit pizzeria and Italian food For the people who complained about the service, that's Thailand,  The food and pizza are excellent And not forget the desserts,,,,\", 'Busy place indeed. We ordered same dishes for 2 and one was missing - taking more time. The staff should be more attentive. Great good especially Tomino cheese with bacon, ricotta cheese cake and coffee.', 'As Italian as you can get. Packed with people who come for good food. And good value for money. But... Staff could be a more attentive to people eating at the bar. Yes they are working hard. But....', \"The service here was rather slow; I waited 10 minutes to be able to order after I'd already put my menu down. Once I ordered, the pizza arrived quickly (it was already made) and the server was pleasant but the food was just so so. Wouldn't go back.\", 'My unico ihjo loves Salmone Affumicato! But feel dissapointed cause NO Bolognese Beef; Not serious anyway... Cheers!!', 'After 3 months of rice /breakfast/lunch/dinner I visted that lovely restaurant every day for a week. Excellent Pasta, bruscetta, Iberico ham, red wine etc Staff very hard-working and lovely � Thank you!', 'It makes me surprise this restaurant. It looks very casual and reasonable price but, foods taste and wine are very good. Pure Italian.', 'พนักงานผมบ้อบ บริการดีรวดเร็ว ยิ้มแย้มตลอด อาหารดี พิซซ่า และเค้กช้อคโกแลตอร่อยมาก ลูกสาวติดใจ  สามีให้ซื้อกลับบ้าน 4สไลด์ทุกครั้ง', 'Mangé des pizzas super! Vraiment très bonnes �', 'ในขณะที่เดินเข้าร้าน ไม่มีพนักงานพาไปนั่งที่โต๊ะ ดิฉันและสามีมา2ท่าน ตัดสินใจไปนั่งที่โต๊ะเอง พนักงานเดินเข้ามาและพูดว่า นั่งตรงนี้ไม่ได้ เป็นคำพูดที่ไม่ได้รับการอบรมในการให้บริการเป็นอย่างมาก เมื่อทานเสร็จดิฉัน ไม่ได้รับคำกล่าวขอบคุณจากพนักงานเลย รสชาติอาหารดี แต่บริการของพนักงานต้องปรับปรุงเป็นอย่างมาก', 'Really great food so happy Nita found this place. Clean  ,small , great food', 'The most vibrant eatery in Bangkok I have visited yet', 'Love this place with lovely pizza and pasta; indeed the astonishing eating atmosphere helps a lot on ordering  More to eat. Love it', 'The pizzas were nice, but I wish they were heated up before they served to the table', 'Busy place and great for a quick slice of pizza. Some awesome cheeses and cold meats to be had too', \"I love pizza and the place but the service is not good. It was busy today, sure, but I used to be a waitress as well and never let my customer sit at the bar in front of me for 10 min waiting to order. That was me today. I left very disappointed. I come to Pala quite often and it was not the first time I thought service wasn't good but this time I travelled especially to have my favourite pizza and... nothing. Not a big deal but serive is important.\", 'Service,food,everything perfect..', 'I bought the pizza for taking home. The staff was unfriendly and she threw the pizza to me with unfriendly face! Plus, And one thing i dont like is the package of pizza, Its like the package of khawmankai.', 'Started off perfectly, had a bumpy moment some months ago and is back to what is arguably the best Italian fast food on a very high level. Competitively priced, service 10 out of 10 - a very, very efficient operation and likewise does the food taste. Will be back ;-)', 'Amazing value for money and good taste. A perfect choice if you are looking for Italian-style pizza and other Italian dishes.', 'Best Pizza and Italian food in town, for fair value. Not a hangout place mind you.', \"I'd give it a zillion stars if I could! We eat here 2-3x a week!\", 'พิซซ่าอร่อยมากค่ะ บริการดีเยี่ยม รวดเร็ว ประทับใจมากๆค่ะ', 'Forget about super thin crust pizza! I give all my heart to Pala Romana already!  Awesome, Taste good and friendly price with good quality of cheese and ingredient :)', 'Great food with great service :) The best pizza in town', 'The best pizza in Thailand, and probably in the top 3 best pizzas EVER!!!', 'Good authentic pizza little pricey but very good selection of pizza and pasta Daily specials and very nice desserts.', \"Come to see 'Pala Romana' new looking!!! They are waiting for you.\", 'The food is like my Mamma used to do it at home, full of colors, amazing aroma and perfect taste. The crew at the Pala is great, always ready to help with their lovely smile.... and all that is located in the heart of the city. You feel like eating Italian.. dont hesitate..enjoy the best Italian in bkk ..THE PALA!', 'กินทุกอาทิตย์จนควรจะได้ Premium Member ได้แล้วนะคะ 5555', 'Very good pizza!', \"La disponibilità di ingredienti importati dall'Italia si fa sentire. Altri ristoranti fanno cucina italiana ma si arrangiano con gli ingredienti che trovano in loco ed il risultato è un po' approssimativo. Qui troverete mozzarella, salumi ma anche la Menabrea alla spina ed il tiramisù con il vero mascarpone. Il caffè è il migliore di quelli bevuti in Thailandia.\", 'Totally changed for  worse!! I have been coming to this place for 3 years since I live in Bangkok, it  all changed! Now they make you  pay also some more tomato sauce!  Tonight they just lost a commuter costumer   many many many more better place at few minutes from there', 'Prices are always going up, limited drinks (beer) menu, Staff have pretty bad attitudes, used to be a great place but there is NEVER any manager on duty to oversee service.', \"Used to love this place, beginning to hate it now. I can cope with the rising prices; the cost of everything's going up. But no domestic beers? Only overpriced Italian beers no one's ever heard of, and half the time you're out of those? Come on, Pala, you're a deli. BRING BACK THE LOCAL BEERS!\", 'Good pizza but horrible service with bad attitude from the staffs. Thank god they are the only one serving decent pizza in this area (though peppina ten sois away do have the best), if not, with such horrendous attitude, they will draw shutters. Order takeaway and the lady will heat, wrap and throw the change and pizza right in your face. Try doing that to Chinese tourists and may they be cursed to starve to death by Chinese folk lore...', 'One of the best places for pizza when in Bangkok.  Great selection of pizza by the slice.', 'Amazing pizza romana!!!! And the dessert are TOP!!!', 'カジュアルなイタリアン。パスタもピザもいい感じです。', 'เคยสั่งแค่หน้าชืส 5 อย่าง ก็อร่อยดี แต่ทานนานแล้ว ไม่ทราบว่าปัจจุบันยังอร่อบเหมือนเดิมหรือไม่', 'Best pizza in Bangkok! And the staff is very friendly.', 'Really good place. Delicious fresh croissants and coffee just how i like it. Staff is very friendly.', 'I love Pizaaaaa', 'Great pizza!', \"Didn't expect to find simple and reasonably priced cafe at center of Asok. Very much enjoyed my Montanara and Toscana with a very Italian cappuccino before to see movie at Terminal21. Great place to drop by for a quick and inexpensive meal.\", 'My happy first lunch in Bangkok this early autumn! And I met a great friend at the shop, because of PALA pizza! My mum is travelling to Bangkok tomorrow and I strongly recommend her to get delicious pizza at PALA too. B-)', 'The first time ...good pizza', 'Notevole!', 'พิซซ่าอร่อยมาก แต่ที่นั่งน้อยไปหน่อย', 'Finalmente ho trovato un posto a BKK in cui fanno una pizza davvero buona.', \"Excellent. I always drop by whenever I'm in Bkk.\", 'I love Pala. Did it close or just renovation?', 'Come and enjoy a local \"special\"! menu  try the taste of Southern Italy', 'Worst service ever! First they wrapped our stuff for take away even though we were already seated. Then it took ages until the stuff was heated up again....', \"Some of the best pizza I've ever had anywhere and the most delightful staff anywhere in Bangkok.  Much success with your next location.\", 'Awesome!!', 'Best italian coffee in bangkok.', 'Finest  pizzeria in Town', 'Food is good...service wise mostly good but one of the staff occasionally can be rather moody...', 'Authentic, fantastic Italian food!', 'Fantastic and Authentic Italian Food!', \"Superb food &amp; service. You may sometimes have to wait a few minutes for a seat, but that's for a reason. :)\", 'Buoniiiiiiissimaaaa la pizza. La raccomando', \"We had a wonderful dinner at Pizza Pala Romana, food was excellent, manger Fiorentino was very attentive, and it's located right next to the BTS Asok / MRT Sukhumvit station, we will absolutely go back for more delicious food!\"]\n",
      "Type of Reviews: 139\n"
     ]
    }
   ],
   "source": [
    "TAG_RE = re.compile(r'<[^>]+>') \n",
    "\n",
    "def display_review(review):\n",
    "    for each_review in review:\n",
    "        print(each_review,'\\n')\n",
    "\n",
    "def remove_tags(text): \n",
    "    return TAG_RE.sub('', text) \n",
    "\n",
    "def get_review_from_html(soup):\n",
    "    data = soup.find_all(\"div\", class_=\"_5pbx userContent _3576\") \n",
    "    tag = \"\"\n",
    "    bag_of_data = []\n",
    "    for d in data: \n",
    "        tag = d.find(\"p\") \n",
    "        tag = remove_tags(str(tag)) \n",
    "        bag_of_data.append(tag)\n",
    "    return bag_of_data\n",
    "\n",
    "#Get review of the restuarant from HTML5 file.\n",
    "review = get_review_from_html(soup)\n",
    "print(\"Reviews: {}\".format(review))\n",
    "print(\"Type of Reviews: {}\".format(len(review)))\n",
    "#print(\"Reviews: {}\".format(review[:10]))\n",
    "#display_review(review)"
   ]
  },
  {
   "cell_type": "code",
   "execution_count": 250,
   "metadata": {},
   "outputs": [
    {
     "name": "stdout",
     "output_type": "stream",
     "text": [
      "Length of Time_data: 204\n",
      "['7', 'กันยายน', '2017']\n",
      "<class 'list'>\n"
     ]
    }
   ],
   "source": [
    "#Visualize เวลาที่โพสต์\n",
    "#Get เวลา\n",
    "time_data = soup.find_all(\"span\", class_=\"timestampContent\")\n",
    "print(\"Length of Time_data: {}\".format(len(time_data)))\n",
    "year = ['2013', '2014', '2015', '2016', '2017']\n",
    "result = []\n",
    "count = 0\n",
    "\n",
    "def preprocess_word(time_data, year):\n",
    "    data = []\n",
    "    for i in range(len(time_data)):\n",
    "        #Remove tag of HTML \n",
    "        time_data[i] = remove_tags(str(time_data[i]))\n",
    "        #Split string list by white space. \n",
    "        time_data[i] = time_data[i].split(' ')\n",
    "\n",
    "        #Check whether white space in a word and then delete white space.\n",
    "        if '' in time_data[i]:\n",
    "            time_data[i].remove('')\n",
    "\n",
    "        # Delete 'เวลา' in a word.\n",
    "        if 'เวลา' in time_data[i]:\n",
    "            time_data[i].remove('เวลา')\n",
    "\n",
    "        # Delete 'น.' in a word.\n",
    "        if 'น.' in time_data[i]:\n",
    "            time_data[i].remove('น.')\n",
    "\n",
    "        # If each row does not have a year in last index, Then add year '2017' to last index\n",
    "        if len(time_data[i]) == 2:\n",
    "            time_data[i].insert(3, '2017')\n",
    "\n",
    "        #Check last index of each data is one of the '2014, 2015, 2016, 2017, 2018' or not \n",
    "        #If it does not, Then change the last index to '2018'\n",
    "        if time_data[i][-1] not in year:\n",
    "            time_data[i][-1] = '2017'\n",
    "        \n",
    "        data.append(time_data[i])\n",
    "        \n",
    "    return data\n",
    "\n",
    "time_data = preprocess_word(time_data, year)\n",
    "#Convert string list to string data type\n",
    "print(time_data[0])\n",
    "print(type(time_data))"
   ]
  },
  {
   "cell_type": "code",
   "execution_count": 251,
   "metadata": {},
   "outputs": [
    {
     "name": "stdout",
     "output_type": "stream",
     "text": [
      "Save sucessfully\n"
     ]
    }
   ],
   "source": [
    "#Prepare time data to CSV format\n",
    "date = []\n",
    "month = []\n",
    "year = []\n",
    "for i in range(len(time_data)):\n",
    "    date.append(int(time_data[i][0])) # For adding date to list\n",
    "    month.append(time_data[i][1]) # For adding month to list\n",
    "    year.append(int(time_data[i][2])) # For adding year to list\n",
    "#print(month, year)\n",
    "\n",
    "data = {'Date': date,\n",
    "         'Month': month,\n",
    "         'Year': year,\n",
    "       }\n",
    "df = pd.DataFrame.from_dict(data)\n",
    "#Create excel writer\n",
    "df.to_csv('csv_'+shopName+'.csv', encoding='utf-8', index=False)\n",
    "print(\"Save sucessfully\")"
   ]
  },
  {
   "cell_type": "code",
   "execution_count": 252,
   "metadata": {},
   "outputs": [],
   "source": [
    "# sum = 1\n",
    "# oldDateStr = None\n",
    "# with open('mademoiselle.csv', newline='') as csvfile:\n",
    "#     spamreader = csv.reader(csvfile, delimiter=' ', quotechar='|')\n",
    "#     next(spamreader, None)\n",
    "#     for row in spamreader:\n",
    "#         dateStr = str(', '.join(row))\n",
    "#         if(oldDateStr == None):\n",
    "#             oldDateStr = dateStr\n",
    "#             continue\n",
    "#         if(dateStr != oldDateStr):\n",
    "#             print(oldDateStr+' '+str(sum))\n",
    "#             oldDateStr = dateStr\n",
    "#             sum = 1\n",
    "#         else:\n",
    "#             sum += 1"
   ]
  },
  {
   "cell_type": "code",
   "execution_count": 253,
   "metadata": {},
   "outputs": [
    {
     "name": "stdout",
     "output_type": "stream",
     "text": [
      "[[7, 9, 2017, 1], [6, 9, 2017, 1], [28, 3, 2017, 1], [5, 9, 2017, 1], [7, 3, 2017, 1], [5, 9, 2017, 1], [3, 7, 2017, 1], [5, 9, 2017, 1], [11, 7, 2017, 1], [3, 9, 2017, 1], [30, 1, 2017, 1], [6, 9, 2017, 1], [10, 9, 2017, 1], [4, 9, 2017, 1], [8, 1, 2017, 1], [6, 9, 2017, 1], [17, 2, 2017, 1], [5, 9, 2017, 1], [8, 6, 2017, 1], [5, 9, 2017, 1], [5, 12, 2017, 1], [6, 9, 2017, 1], [3, 4, 2017, 1], [5, 9, 2017, 1], [10, 11, 2017, 1], [1, 11, 2017, 1], [22, 8, 2017, 1], [5, 9, 2017, 1], [4, 1, 2017, 1], [13, 9, 2017, 1], [11, 1, 2017, 1], [2, 1, 2017, 1], [22, 6, 2017, 1], [10, 2, 2017, 1], [6, 4, 2017, 1], [11, 7, 2017, 1], [12, 5, 2017, 1], [22, 11, 2017, 1], [1, 10, 2017, 1], [3, 12, 2017, 1], [4, 9, 2017, 1], [22, 10, 2017, 1], [19, 11, 2017, 1], [24, 10, 2017, 1], [6, 6, 2017, 1], [13, 8, 2017, 1], [5, 9, 2017, 1], [15, 11, 2017, 1], [4, 7, 2017, 1], [13, 8, 2017, 1], [17, 11, 2017, 1], [30, 8, 2017, 1], [7, 7, 2017, 1], [27, 5, 2017, 1], [1, 11, 2017, 1], [24, 9, 2017, 1], [7, 10, 2017, 1], [8, 7, 2017, 1], [19, 1, 2017, 1], [11, 8, 2017, 1], [1, 4, 2017, 1], [21, 8, 2017, 1], [19, 10, 2017, 1], [22, 9, 2017, 1], [20, 5, 2017, 1], [26, 5, 2017, 1], [8, 11, 2017, 1], [11, 10, 2017, 1], [3, 8, 2017, 1], [30, 3, 2017, 1], [27, 10, 2017, 1], [3, 8, 2017, 1], [29, 4, 2017, 1], [27, 3, 2017, 1], [25, 3, 2017, 1], [24, 3, 2017, 1], [23, 3, 2017, 1], [4, 3, 2017, 1], [27, 2, 2017, 1], [26, 2, 2017, 1], [25, 2, 2017, 1], [18, 2, 2017, 1], [7, 2, 2017, 1], [26, 1, 2017, 1], [4, 1, 2017, 1], [27, 12, 2016, 1], [18, 12, 2016, 2], [4, 12, 2016, 1], [28, 11, 2016, 1], [26, 11, 2016, 1], [11, 11, 2016, 1], [5, 11, 2016, 1], [29, 10, 2016, 1], [22, 10, 2016, 1], [10, 10, 2016, 1], [2, 10, 2016, 1], [30, 9, 2016, 1], [24, 9, 2016, 1], [17, 9, 2016, 1], [15, 9, 2016, 1], [10, 9, 2016, 1], [1, 9, 2016, 1], [19, 8, 2016, 1], [30, 4, 2016, 1], [13, 3, 2016, 1], [13, 2, 2016, 1], [2, 2, 2016, 1], [17, 1, 2016, 1], [12, 1, 2016, 1], [28, 12, 2015, 1], [14, 12, 2015, 1], [30, 10, 2015, 1], [29, 10, 2015, 1], [28, 10, 2015, 1], [27, 10, 2015, 1], [12, 10, 2015, 1], [4, 9, 2015, 1], [16, 8, 2015, 1], [1, 7, 2015, 1], [16, 10, 2014, 1], [12, 9, 2014, 1], [28, 6, 2014, 2], [26, 6, 2014, 1], [14, 6, 2014, 1], [15, 4, 2014, 1], [12, 2, 2014, 1], [11, 1, 2014, 1], [5, 1, 2014, 1], [3, 1, 2014, 1], [28, 12, 2013, 1], [17, 12, 2013, 1], [13, 12, 2013, 1], [18, 10, 2013, 3], [15, 8, 2013, 1], [14, 7, 2013, 1], [4, 6, 2017, 1], [29, 3, 2017, 1], [12, 3, 2017, 1], [2, 3, 2017, 1], [21, 2, 2017, 1], [17, 2, 2017, 1], [29, 1, 2017, 1], [10, 12, 2017, 1], [6, 12, 2017, 1], [29, 11, 2017, 1], [10, 11, 2017, 1], [8, 11, 2017, 1], [6, 11, 2017, 1], [4, 11, 2017, 1], [24, 10, 2017, 1], [23, 10, 2017, 1], [15, 10, 2017, 1], [11, 10, 2017, 1], [2, 10, 2017, 2], [15, 9, 2017, 1], [7, 9, 2017, 1], [5, 9, 2017, 1], [24, 8, 2017, 1], [20, 8, 2017, 1], [3, 8, 2017, 1], [23, 7, 2017, 1], [22, 7, 2017, 1], [20, 7, 2017, 1], [20, 6, 2017, 1], [19, 6, 2017, 1], [12, 6, 2017, 1], [4, 6, 2017, 1], [3, 6, 2017, 1], [27, 5, 2017, 1], [18, 5, 2017, 1], [16, 5, 2017, 1], [8, 5, 2017, 1], [5, 5, 2017, 1], [30, 4, 2017, 1], [7, 4, 2017, 1], [30, 3, 2017, 1], [14, 3, 2017, 2], [9, 3, 2017, 1], [8, 3, 2017, 1], [5, 3, 2017, 1], [21, 2, 2017, 1], [17, 2, 2017, 1], [16, 2, 2017, 1], [28, 1, 2017, 1], [7, 1, 2017, 1], [2, 1, 2017, 1], [7, 12, 2016, 1], [22, 11, 2016, 1], [20, 11, 2016, 1], [16, 11, 2016, 1], [6, 11, 2016, 1], [4, 11, 2016, 1], [19, 10, 2016, 1], [17, 10, 2016, 1], [13, 10, 2016, 1], [8, 10, 2016, 1], [4, 10, 2016, 1]]\n",
      "1, 1, 1, 1, 1, 1, 1, 1, 1, 1, 1, 1, 1, 1, 1, 1, 1, 1, 1, 1, 1, 1, 1, 1, 1, 1, 1, 1, 1, 1, 1, 1, 1, 1, 1, 1, 1, 1, 1, 1, 1, 1, 1, 1, 1, 1, 1, 1, 1, 1, 1, 1, 1, 1, 1, 1, 1, 1, 1, 1, 1, 1, 1, 1, 1, 1, 1, 1, 1, 1, 1, 1, 1, 1, 1, 1, 1, 1, 1, 1, 1, 1, 1, 1, 1, 1, 2, 1, 1, 1, 1, 1, 1, 1, 1, 1, 1, 1, 1, 1, 1, 1, 1, 1, 1, 1, 1, 1, 1, 1, 1, 1, 1, 1, 1, 1, 1, 1, 1, 1, 1, 2, 1, 1, 1, 1, 1, 1, 1, 1, 1, 1, 3, 1, 1, 1, 1, 1, 1, 1, 1, 1, 1, 1, 1, 1, 1, 1, 1, 1, 1, 1, 1, 2, 1, 1, 1, 1, 1, 1, 1, 1, 1, 1, 1, 1, 1, 1, 1, 1, 1, 1, 1, 1, 1, 1, 2, 1, 1, 1, 1, 1, 1, 1, 1, 1, 1, 1, 1, 1, 1, 1, 1, 1, 1, 1, 1\n"
     ]
    }
   ],
   "source": [
    "monthno = {\"มกราคม\": 1,\n",
    "            \"กุมภาพันธ์\": 2,\n",
    "            \"มีนาคม\": 3,\n",
    "            \"เมษายน\": 4,\n",
    "            \"พฤษภาคม\": 5,\n",
    "            \"มิถุนายน\": 6,\n",
    "            \"กรกฎาคม\": 7,\n",
    "            \"สิงหาคม\": 8,\n",
    "            \"กันยายน\": 9,\n",
    "            \"ตุลาคม\": 10,\n",
    "            \"พฤศจิกายน\": 11,\n",
    "            \"ธันวาคม\": 12}\n",
    "\n",
    "sum = 1\n",
    "oldMonthYearStr = None\n",
    "ls_result = []\n",
    "result_array = np.empty((4, 4))\n",
    "with open('csv_'+shopName+'.csv', newline='') as csvfile:\n",
    "    spamreader = csv.reader(csvfile, delimiter=' ', quotechar='|')\n",
    "    next(spamreader, None)\n",
    "    \n",
    "    for row in spamreader:\n",
    "        monthYear = str(','.join(row)).split(',')\n",
    "        monthYear[1] = str(monthno[str(monthYear[1])])\n",
    "        monthYearStr = str(','.join(monthYear))\n",
    "        if(oldMonthYearStr == None):\n",
    "            oldMonthYearStr = monthYearStr\n",
    "            continue\n",
    "        if(oldMonthYearStr != monthYearStr):\n",
    "            result = oldMonthYearStr+','+str(sum)\n",
    "            l = list(map(int, result.split(',')))\n",
    "            ls_result.append(l)\n",
    "#             print(oldMonthYearStr+','+str(sum))\n",
    "            oldMonthYearStr = monthYearStr\n",
    "            sum = 1\n",
    "        else:\n",
    "            sum += 1\n",
    "print(ls_result)\n",
    "\n",
    "a=np.array(ls_result)\n",
    "a=a[a[:,0].sort()]\n",
    "a=a[:,:,3]\n",
    "a=np.asarray(a[0])\n",
    "result=str(a).replace('\\n','').replace('[','').replace(']','')\n",
    "result = result.split(' ')\n",
    "result = list(map(int, result))\n",
    "result = str(', '.join(str(x) for x in result))\n",
    "\n",
    "print(result)"
   ]
  },
  {
   "cell_type": "code",
   "execution_count": 254,
   "metadata": {},
   "outputs": [],
   "source": [
    "file_object = codecs.open(\"result_\"+shopName+\".txt\", \"w\", \"utf-8\")\n",
    "file_object.write(result)\n",
    "file_object.close()"
   ]
  },
  {
   "cell_type": "code",
   "execution_count": 260,
   "metadata": {},
   "outputs": [
    {
     "name": "stdout",
     "output_type": "stream",
     "text": [
      "[1, 1, 1, 1, 1, 1, 1, 1, 1, 1, 1, 1, 1, 1, 1, 1, 1, 1, 1, 1, 1, 1, 1, 1, 1, 1, 1, 1, 1, 1, 1, 1, 1, 1, 1, 1, 1, 1, 1, 1]\n",
      "[1, 1, 1, 1, 1, 1, 1, 1, 1, 1, 1, 1, 1, 1, 1, 1, 1, 1, 1, 3, 1, 1, 2, 2, 1, 1, 1, 1, 1, 1, 1, 1, 1, 3]\n"
     ]
    }
   ],
   "source": [
    "dot_chart = pygal.Dot(x_label_rotation=30)\n",
    "\n",
    "for shop in graphFileList:\n",
    "    f=codecs.open(\"result_\"+shop+\".txt\", \"r\", \"utf-8\") \n",
    "    summary = f.read() \n",
    "    l = list(map(int, summary.split(',')))\n",
    "    l = l[:40]\n",
    "    print(l)\n",
    "    dot_chart.add(shop, l)\n",
    "\n",
    "dot_chart.render_to_file('graph_result.svg') "
   ]
  }
 ],
 "metadata": {
  "kernelspec": {
   "display_name": "Python 3",
   "language": "python",
   "name": "python3"
  },
  "language_info": {
   "codemirror_mode": {
    "name": "ipython",
    "version": 3
   },
   "file_extension": ".py",
   "mimetype": "text/x-python",
   "name": "python",
   "nbconvert_exporter": "python",
   "pygments_lexer": "ipython3",
   "version": "3.5.2"
  }
 },
 "nbformat": 4,
 "nbformat_minor": 2
}
