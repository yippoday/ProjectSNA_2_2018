{
 "cells": [
  {
   "cell_type": "code",
   "execution_count": 166,
   "metadata": {},
   "outputs": [],
   "source": [
    "import csv\n",
    "import numpy as np\n",
    "import pygal\n",
    "import codecs"
   ]
  },
  {
   "cell_type": "code",
   "execution_count": 34,
   "metadata": {},
   "outputs": [
    {
     "name": "stdout",
     "output_type": "stream",
     "text": [
      "1,กรกฎาคม,2013 6\n",
      "2,กรกฎาคม,2013 2\n",
      "2,กรกฎาคม,2014 3\n",
      "2,กันยายน,2014 2\n",
      "3,กันยายน,2014 6\n",
      "3,กันยายน,2015 3\n",
      "4,กันยายน,2015 7\n",
      "4,กันยายน,2016 6\n",
      "5,กันยายน,2016 8\n",
      "5,กุมภาพันธ์,2016 6\n",
      "6,กุมภาพันธ์,2016 9\n",
      "7,ตุลาคม,2016 8\n",
      "7,ตุลาคม,2017 1\n",
      "8,ตุลาคม,2017 8\n",
      "9,ตุลาคม,2017 1\n",
      "10,ตุลาคม,2017 7\n",
      "11,ตุลาคม,2017 6\n",
      "11,ธันวาคม,2017 2\n",
      "12,ธันวาคม,2017 7\n",
      "13,ธันวาคม,2017 5\n",
      "13,พฤศจิกายน,2017 2\n",
      "14,พฤศจิกายน,2017 5\n",
      "15,พฤศจิกายน,2017 6\n",
      "16,พฤศจิกายน,2017 5\n",
      "17,พฤศจิกายน,2017 4\n",
      "17,พฤษภาคม,2017 4\n",
      "18,พฤษภาคม,2017 5\n",
      "18,มกราคม,2017 2\n",
      "19,มกราคม,2017 6\n",
      "20,มกราคม,2017 5\n",
      "21,มกราคม,2017 4\n",
      "22,มิถุนายน,2017 8\n",
      "23,มิถุนายน,2017 3\n",
      "24,มิถุนายน,2017 2\n",
      "24,มีนาคม,2017 4\n",
      "25,มีนาคม,2017 2\n",
      "26,มีนาคม,2017 5\n",
      "27,มีนาคม,2017 7\n",
      "28,เมษายน,2017 6\n",
      "28,เมษายน,2018 2\n",
      "29,สิงหาคม,2018 6\n"
     ]
    }
   ],
   "source": [
    "# sum = 1\n",
    "# oldDateStr = None\n",
    "# with open('mademoiselle.csv', newline='') as csvfile:\n",
    "#     spamreader = csv.reader(csvfile, delimiter=' ', quotechar='|')\n",
    "#     next(spamreader, None)\n",
    "#     for row in spamreader:\n",
    "#         dateStr = str(', '.join(row))\n",
    "#         if(oldDateStr == None):\n",
    "#             oldDateStr = dateStr\n",
    "#             continue\n",
    "#         if(dateStr != oldDateStr):\n",
    "#             print(oldDateStr+' '+str(sum))\n",
    "#             oldDateStr = dateStr\n",
    "#             sum = 1\n",
    "#         else:\n",
    "#             sum += 1\n",
    "        \n",
    "        \n"
   ]
  },
  {
   "cell_type": "code",
   "execution_count": 173,
   "metadata": {},
   "outputs": [
    {
     "name": "stdout",
     "output_type": "stream",
     "text": [
      "[[22, 5, 2017, 1], [20, 9, 2017, 1], [23, 4, 2017, 1], [24, 1, 2016, 1], [19, 9, 2017, 1], [3, 11, 2016, 1], [14, 1, 2017, 1], [18, 4, 2016, 1], [16, 11, 2015, 1], [21, 7, 2017, 1], [6, 1, 2016, 1], [12, 1, 2016, 1], [16, 11, 2016, 1], [20, 11, 2015, 1], [18, 11, 2015, 1], [9, 4, 2017, 1], [28, 3, 2017, 1], [22, 2, 2017, 1], [14, 1, 2017, 1], [3, 12, 2017, 3], [20, 9, 2017, 1], [19, 6, 2017, 1], [25, 5, 2017, 2], [7, 2, 2017, 2], [23, 1, 2017, 1], [7, 12, 2016, 1], [6, 12, 2016, 1], [14, 10, 2016, 1], [20, 9, 2016, 1], [16, 6, 2016, 1], [26, 3, 2016, 1], [16, 11, 2015, 1], [1, 11, 2015, 1], [31, 10, 2015, 3]]\n"
     ]
    }
   ],
   "source": [
    "monthno = {\"มกราคม\": 1,\n",
    "            \"กุมภาพันธ์\": 2,\n",
    "            \"มีนาคม\": 3,\n",
    "            \"เมษายน\": 4,\n",
    "            \"พฤษภาคม\": 5,\n",
    "            \"มิถุนายน\": 6,\n",
    "            \"กรกฎาคม\": 7,\n",
    "            \"สิงหาคม\": 8,\n",
    "            \"กันยายน\": 9,\n",
    "            \"ตุลาคม\": 10,\n",
    "            \"พฤศจิกายน\": 11,\n",
    "            \"ธันวาคม\": 12}\n",
    "\n",
    "sum = 1\n",
    "oldMonthYearStr = None\n",
    "ls_result = []\n",
    "result_array = np.empty((4, 4))\n",
    "with open('mademoiselle.csv', newline='') as csvfile:\n",
    "    spamreader = csv.reader(csvfile, delimiter=' ', quotechar='|')\n",
    "    next(spamreader, None)\n",
    "    \n",
    "    for row in spamreader:\n",
    "        monthYear = str(','.join(row)).split(',')\n",
    "        monthYear[1] = str(monthno[str(monthYear[1])])\n",
    "        monthYearStr = str(','.join(monthYear))\n",
    "        if(oldMonthYearStr == None):\n",
    "            oldMonthYearStr = monthYearStr\n",
    "            continue\n",
    "        if(oldMonthYearStr != monthYearStr):\n",
    "            result = oldMonthYearStr+','+str(sum)\n",
    "            l = list(map(int, result.split(',')))\n",
    "            ls_result.append(l)\n",
    "#             print(oldMonthYearStr+','+str(sum))\n",
    "            oldMonthYearStr = monthYearStr\n",
    "            sum = 1\n",
    "        else:\n",
    "            sum += 1\n",
    "print(ls_result)\n",
    "\n",
    "a=np.array(ls_result)\n",
    "a=a[a[:,0].sort()]\n",
    "a=a[:,:,3]\n",
    "a=np.asarray(a[0])\n",
    "result=str(a).replace('\\n','').replace('[','').replace(']','')\n",
    "result = result.split(' ')\n",
    "result = list(map(int, result))\n",
    "result = str(', '.join(str(x) for x in result))\n"
   ]
  },
  {
   "cell_type": "code",
   "execution_count": 174,
   "metadata": {},
   "outputs": [],
   "source": [
    "file_object = codecs.open(\"result-mademoiselle.txt\", \"w\", \"utf-8\")\n",
    "file_object.write(result)"
   ]
  },
  {
   "cell_type": "code",
   "execution_count": 159,
   "metadata": {},
   "outputs": [],
   "source": [
    "dot_chart = pygal.Dot(x_label_rotation=30)\n",
    "dot_chart.add('Pizza Pala Romana', result)\n",
    "dot_chart.render_to_file('bar_chart.svg') "
   ]
  }
 ],
 "metadata": {
  "kernelspec": {
   "display_name": "Python 3",
   "language": "python",
   "name": "python3"
  },
  "language_info": {
   "codemirror_mode": {
    "name": "ipython",
    "version": 3
   },
   "file_extension": ".py",
   "mimetype": "text/x-python",
   "name": "python",
   "nbconvert_exporter": "python",
   "pygments_lexer": "ipython3",
   "version": "3.5.2"
  }
 },
 "nbformat": 4,
 "nbformat_minor": 2
}
