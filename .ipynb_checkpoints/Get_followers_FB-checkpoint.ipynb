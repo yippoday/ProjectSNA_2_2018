{
 "cells": [
  {
   "cell_type": "code",
   "execution_count": 23,
   "metadata": {},
   "outputs": [],
   "source": [
    "from bs4 import BeautifulSoup\n",
    "import os\n",
    "import time \n",
    "import requests"
   ]
  },
  {
   "cell_type": "code",
   "execution_count": 47,
   "metadata": {},
   "outputs": [],
   "source": [
    "target_url = 'https://www.facebook.com/pg/grampancakesthailand/reviews/?ref=page_internal'"
   ]
  },
  {
   "cell_type": "code",
   "execution_count": 48,
   "metadata": {},
   "outputs": [
    {
     "name": "stdout",
     "output_type": "stream",
     "text": [
      "<Response [200]>\n"
     ]
    }
   ],
   "source": [
    "page = requests.get(target_url)\n",
    "print(page)"
   ]
  },
  {
   "cell_type": "code",
   "execution_count": 26,
   "metadata": {},
   "outputs": [],
   "source": [
    "#print(page.content)"
   ]
  },
  {
   "cell_type": "code",
   "execution_count": 77,
   "metadata": {},
   "outputs": [],
   "source": [
    "soup = BeautifulSoup(page.content, 'html.parser')"
   ]
  },
  {
   "cell_type": "code",
   "execution_count": 36,
   "metadata": {},
   "outputs": [],
   "source": [
    "#print(soup.prettify())"
   ]
  },
  {
   "cell_type": "code",
   "execution_count": 111,
   "metadata": {},
   "outputs": [
    {
     "name": "stdout",
     "output_type": "stream",
     "text": [
      "<p>แน่นอนว่าเมนูที่ดีที่สุดของผมจะเป็นไปไปไม่ได้นอกจากเจ้านี่ ถึงขนาดเดินทางจากเพชรบูรณ์เพื่อไปกินโดยเฉพาะ อร่อยมากกกกก</p>\n"
     ]
    }
   ],
   "source": [
    "data = soup.find(\"div\", class_=\"_5pbx userContent _3576\").find(\"p\")\n",
    "#data = soup.find(\"div\", id=\"js_3l\")\n",
    "#data = soup.find(\"div\", { \"class\" : \"_5pbx userContent _3576\" })\n",
    "#data = soup.find(\"div\", { \"id\" : \"js_3l\"}) \n",
    "#div = soup.find(id=\"js_3l\")\n",
    "#data = soup.select('div #js_3l')\n",
    "print(data)"
   ]
  }
 ],
 "metadata": {
  "kernelspec": {
   "display_name": "Python 3",
   "language": "python",
   "name": "python3"
  },
  "language_info": {
   "codemirror_mode": {
    "name": "ipython",
    "version": 3
   },
   "file_extension": ".py",
   "mimetype": "text/x-python",
   "name": "python",
   "nbconvert_exporter": "python",
   "pygments_lexer": "ipython3",
   "version": "3.5.2"
  }
 },
 "nbformat": 4,
 "nbformat_minor": 2
}
