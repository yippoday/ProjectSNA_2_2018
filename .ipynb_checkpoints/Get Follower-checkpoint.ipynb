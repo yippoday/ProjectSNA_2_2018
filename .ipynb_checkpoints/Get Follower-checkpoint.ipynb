{
 "cells": [
  {
   "cell_type": "code",
   "execution_count": 2,
   "metadata": {
    "scrolled": true
   },
   "outputs": [
    {
     "name": "stdout",
     "output_type": "stream",
     "text": [
      "Now, we have 550312 pairs\n",
      "Wait 60 seconds\n",
      "Retrieving 1703129298\n",
      "Page 1\n",
      "Adding 2245 followers\n",
      "Now, we have 552557 pairs\n",
      "Wait 60 seconds\n",
      "Retrieving 1348343976\n",
      "Page 1\n",
      "Adding 24 followers\n",
      "Now, we have 552581 pairs\n",
      "Wait 60 seconds\n"
     ]
    },
    {
     "ename": "KeyboardInterrupt",
     "evalue": "",
     "output_type": "error",
     "traceback": [
      "\u001b[1;31m---------------------------------------------------------------------------\u001b[0m",
      "\u001b[1;31mKeyboardInterrupt\u001b[0m                         Traceback (most recent call last)",
      "\u001b[1;32m<ipython-input-2-a06888e5d748>\u001b[0m in \u001b[0;36m<module>\u001b[1;34m()\u001b[0m\n\u001b[0;32m     46\u001b[0m     \u001b[0mprint\u001b[0m\u001b[1;33m(\u001b[0m\u001b[1;34m\"Now, we have\"\u001b[0m\u001b[1;33m,\u001b[0m\u001b[0mlen\u001b[0m\u001b[1;33m(\u001b[0m\u001b[0mall_lines\u001b[0m\u001b[1;33m)\u001b[0m\u001b[1;33m,\u001b[0m\u001b[1;34m\"pairs\"\u001b[0m\u001b[1;33m)\u001b[0m\u001b[1;33m\u001b[0m\u001b[0m\n\u001b[0;32m     47\u001b[0m     \u001b[0mid1\u001b[0m\u001b[1;33m,\u001b[0m\u001b[0mid2\u001b[0m\u001b[1;33m=\u001b[0m\u001b[0mall_lines\u001b[0m\u001b[1;33m[\u001b[0m\u001b[0ms_id\u001b[0m\u001b[1;33m]\u001b[0m\u001b[1;33m.\u001b[0m\u001b[0mstrip\u001b[0m\u001b[1;33m(\u001b[0m\u001b[1;33m)\u001b[0m\u001b[1;33m.\u001b[0m\u001b[0msplit\u001b[0m\u001b[1;33m(\u001b[0m\u001b[1;34m','\u001b[0m\u001b[1;33m)\u001b[0m\u001b[1;33m\u001b[0m\u001b[0m\n\u001b[1;32m---> 48\u001b[1;33m     \u001b[0mretrieve\u001b[0m\u001b[1;33m(\u001b[0m\u001b[0mid2\u001b[0m\u001b[1;33m)\u001b[0m\u001b[1;33m\u001b[0m\u001b[0m\n\u001b[0m",
      "\u001b[1;32m<ipython-input-2-a06888e5d748>\u001b[0m in \u001b[0;36mretrieve\u001b[1;34m(s_id)\u001b[0m\n\u001b[0;32m     15\u001b[0m     \u001b[1;32mtry\u001b[0m\u001b[1;33m:\u001b[0m\u001b[1;33m\u001b[0m\u001b[0m\n\u001b[0;32m     16\u001b[0m         \u001b[0mprint\u001b[0m\u001b[1;33m(\u001b[0m\u001b[1;34m\"Wait 60 seconds\"\u001b[0m\u001b[1;33m)\u001b[0m\u001b[1;33m\u001b[0m\u001b[0m\n\u001b[1;32m---> 17\u001b[1;33m         \u001b[0mtime\u001b[0m\u001b[1;33m.\u001b[0m\u001b[0msleep\u001b[0m\u001b[1;33m(\u001b[0m\u001b[1;36m10\u001b[0m\u001b[1;33m)\u001b[0m\u001b[1;33m\u001b[0m\u001b[0m\n\u001b[0m\u001b[0;32m     18\u001b[0m         \u001b[0mprint\u001b[0m\u001b[1;33m(\u001b[0m\u001b[1;34m\"Retrieving \"\u001b[0m\u001b[1;33m+\u001b[0m\u001b[0ms_id\u001b[0m\u001b[1;33m)\u001b[0m\u001b[1;33m\u001b[0m\u001b[0m\n\u001b[0;32m     19\u001b[0m         \u001b[0mfollowers_info\u001b[0m \u001b[1;33m=\u001b[0m \u001b[0mtwitter_api\u001b[0m\u001b[1;33m.\u001b[0m\u001b[0mfollowers\u001b[0m\u001b[1;33m.\u001b[0m\u001b[0mids\u001b[0m\u001b[1;33m(\u001b[0m\u001b[0m_id\u001b[0m\u001b[1;33m=\u001b[0m\u001b[0ms_id\u001b[0m\u001b[1;33m)\u001b[0m\u001b[1;33m\u001b[0m\u001b[0m\n",
      "\u001b[1;31mKeyboardInterrupt\u001b[0m: "
     ]
    }
   ],
   "source": [
    "import twitter\n",
    "import json\n",
    "import time\n",
    "import random\n",
    "\n",
    "def retrieve(s_id):\n",
    "    CONSUMER_KEY = 'qpL6JH1ZhGlXHMGYhQf8sEVr9'\n",
    "    CONSUMER_SECRET = 'jDSfXkcpPgh42wsMPtRz4EOiln5M5bT1IFdmNOEzUGHvW0eGNj'\n",
    "    OAUTH_TOKEN = '55261782-OmadjWkaNSWbsvgx6ueKfXfRRHCR5mvtpDdiiPWug'\n",
    "    OAUTH_TOKEN_SECRET = 'tjfrSiCEXa1k9hU9LpfePGT2i3cezN4WbiqtdSMCpyjdH'\n",
    "\n",
    "    auth = twitter.OAuth(OAUTH_TOKEN, OAUTH_TOKEN_SECRET, CONSUMER_KEY, CONSUMER_SECRET)\n",
    "    twitter_api = twitter.Twitter(auth=auth)\n",
    "\n",
    "    try:\n",
    "        print(\"Wait 60 seconds\")\n",
    "        time.sleep(10)\n",
    "        print(\"Retrieving \"+s_id)\n",
    "        followers_info = twitter_api.followers.ids(_id=s_id)\n",
    "        next_id = '0'\n",
    "        page = 1\n",
    "\n",
    "        while True:\n",
    "            print(\"Page\",page);\n",
    "            page += 1\n",
    "            outputfile = open(\"graphlist.csv\",\"a+\")\n",
    "            print(\"Adding\",len(followers_info['ids']),\"followers\")\n",
    "            for f_id in followers_info['ids']:\n",
    "                outputfile.write(\"%s,%s\\n\"%(s_id,f_id))\n",
    "            outputfile.close()\n",
    "            next_cursor = followers_info['next_cursor']\n",
    "            if next_cursor == 0:\n",
    "                break;\n",
    "            print(\"Wait 60 seconds\")\n",
    "            time.sleep(10)\n",
    "            followers_info = twitter_api.followers.ids(_id=s_id,cursor=next_cursor)\n",
    "    except Exception as e:\n",
    "        print(e)\n",
    "        # print(\"User does not allow us to retrieve followers...Skip\")\n",
    "\n",
    "\n",
    "while True:\n",
    "    with open('graphlist.csv','r') as f:\n",
    "        all_lines = f.readlines()\n",
    "    s_id = random.randint(0,len(all_lines))\n",
    "    print(\"Now, we have\",len(all_lines),\"pairs\")\n",
    "    id1,id2=all_lines[s_id].strip().split(',')\n",
    "    retrieve(id2)"
   ]
  }
 ],
 "metadata": {
  "kernelspec": {
   "display_name": "Python 3",
   "language": "python",
   "name": "python3"
  },
  "language_info": {
   "codemirror_mode": {
    "name": "ipython",
    "version": 3
   },
   "file_extension": ".py",
   "mimetype": "text/x-python",
   "name": "python",
   "nbconvert_exporter": "python",
   "pygments_lexer": "ipython3",
   "version": "3.5.2"
  }
 },
 "nbformat": 4,
 "nbformat_minor": 2
}
